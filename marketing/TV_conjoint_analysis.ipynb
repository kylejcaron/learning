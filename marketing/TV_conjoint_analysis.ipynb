{
 "cells": [
  {
   "cell_type": "code",
   "execution_count": 71,
   "metadata": {},
   "outputs": [],
   "source": [
    "import numpy as np\n",
    "import pandas as pd"
   ]
  },
  {
   "cell_type": "markdown",
   "metadata": {},
   "source": [
    "# Import the Data\n",
    "\n",
    "The dataset consists of immigrant data from Harvard's API with two target variables, 'selected', and 'rating'.\n",
    "\n",
    "This allows for 2 possible conjoint methods to be used:\n",
    " - Choice-based conjoint analysis ('selected')\n",
    " - Rating-based conjoint analysis ('rating')"
   ]
  },
  {
   "cell_type": "code",
   "execution_count": 72,
   "metadata": {},
   "outputs": [
    {
     "data": {
      "text/html": [
       "<div>\n",
       "<style scoped>\n",
       "    .dataframe tbody tr th:only-of-type {\n",
       "        vertical-align: middle;\n",
       "    }\n",
       "\n",
       "    .dataframe tbody tr th {\n",
       "        vertical-align: top;\n",
       "    }\n",
       "\n",
       "    .dataframe thead th {\n",
       "        text-align: right;\n",
       "    }\n",
       "</style>\n",
       "<table border=\"1\" class=\"dataframe\">\n",
       "  <thead>\n",
       "    <tr style=\"text-align: right;\">\n",
       "      <th></th>\n",
       "      <th>Rank</th>\n",
       "      <th>TV_size</th>\n",
       "      <th>TV_screen</th>\n",
       "      <th>TV_color</th>\n",
       "    </tr>\n",
       "  </thead>\n",
       "  <tbody>\n",
       "    <tr>\n",
       "      <th>0</th>\n",
       "      <td>2</td>\n",
       "      <td>32\" (81cm)</td>\n",
       "      <td>Plasma</td>\n",
       "      <td>Silver</td>\n",
       "    </tr>\n",
       "    <tr>\n",
       "      <th>1</th>\n",
       "      <td>3</td>\n",
       "      <td>32\" (81cm)</td>\n",
       "      <td>Plasma</td>\n",
       "      <td>Black</td>\n",
       "    </tr>\n",
       "    <tr>\n",
       "      <th>2</th>\n",
       "      <td>1</td>\n",
       "      <td>32\" (81cm)</td>\n",
       "      <td>Plasma</td>\n",
       "      <td>Anthrazit</td>\n",
       "    </tr>\n",
       "    <tr>\n",
       "      <th>3</th>\n",
       "      <td>5</td>\n",
       "      <td>32\" (81cm)</td>\n",
       "      <td>LCD</td>\n",
       "      <td>Silver</td>\n",
       "    </tr>\n",
       "    <tr>\n",
       "      <th>4</th>\n",
       "      <td>6</td>\n",
       "      <td>32\" (81cm)</td>\n",
       "      <td>LCD</td>\n",
       "      <td>Black</td>\n",
       "    </tr>\n",
       "  </tbody>\n",
       "</table>\n",
       "</div>"
      ],
      "text/plain": [
       "   Rank     TV_size TV_screen   TV_color\n",
       "0     2  32\" (81cm)    Plasma     Silver\n",
       "1     3  32\" (81cm)    Plasma      Black\n",
       "2     1  32\" (81cm)    Plasma  Anthrazit\n",
       "3     5  32\" (81cm)       LCD     Silver\n",
       "4     6  32\" (81cm)       LCD      Black"
      ]
     },
     "execution_count": 72,
     "metadata": {},
     "output_type": "execute_result"
    }
   ],
   "source": [
    "df = pd.read_csv('data/tv_data.csv').drop('Unnamed: 0',axis=1)\n",
    "df.head()"
   ]
  },
  {
   "cell_type": "code",
   "execution_count": 74,
   "metadata": {},
   "outputs": [],
   "source": [
    "X = df[['TV_size', 'TV_screen', 'TV_color']]\n",
    "y = df.Rank\n"
   ]
  },
  {
   "cell_type": "code",
   "execution_count": 78,
   "metadata": {},
   "outputs": [
    {
     "data": {
      "text/html": [
       "<div>\n",
       "<style scoped>\n",
       "    .dataframe tbody tr th:only-of-type {\n",
       "        vertical-align: middle;\n",
       "    }\n",
       "\n",
       "    .dataframe tbody tr th {\n",
       "        vertical-align: top;\n",
       "    }\n",
       "\n",
       "    .dataframe thead th {\n",
       "        text-align: right;\n",
       "    }\n",
       "</style>\n",
       "<table border=\"1\" class=\"dataframe\">\n",
       "  <thead>\n",
       "    <tr style=\"text-align: right;\">\n",
       "      <th></th>\n",
       "      <th>TV_size_32\" (81cm)</th>\n",
       "      <th>TV_size_37\" (94cm)</th>\n",
       "      <th>TV_size_42\" (107cm)</th>\n",
       "      <th>TV_screen_LCD</th>\n",
       "      <th>TV_screen_Plasma</th>\n",
       "      <th>TV_color_Anthrazit</th>\n",
       "      <th>TV_color_Black</th>\n",
       "      <th>TV_color_Silver</th>\n",
       "    </tr>\n",
       "  </thead>\n",
       "  <tbody>\n",
       "    <tr>\n",
       "      <th>0</th>\n",
       "      <td>1</td>\n",
       "      <td>0</td>\n",
       "      <td>0</td>\n",
       "      <td>0</td>\n",
       "      <td>1</td>\n",
       "      <td>0</td>\n",
       "      <td>0</td>\n",
       "      <td>1</td>\n",
       "    </tr>\n",
       "    <tr>\n",
       "      <th>1</th>\n",
       "      <td>1</td>\n",
       "      <td>0</td>\n",
       "      <td>0</td>\n",
       "      <td>0</td>\n",
       "      <td>1</td>\n",
       "      <td>0</td>\n",
       "      <td>1</td>\n",
       "      <td>0</td>\n",
       "    </tr>\n",
       "    <tr>\n",
       "      <th>2</th>\n",
       "      <td>1</td>\n",
       "      <td>0</td>\n",
       "      <td>0</td>\n",
       "      <td>0</td>\n",
       "      <td>1</td>\n",
       "      <td>1</td>\n",
       "      <td>0</td>\n",
       "      <td>0</td>\n",
       "    </tr>\n",
       "    <tr>\n",
       "      <th>3</th>\n",
       "      <td>1</td>\n",
       "      <td>0</td>\n",
       "      <td>0</td>\n",
       "      <td>1</td>\n",
       "      <td>0</td>\n",
       "      <td>0</td>\n",
       "      <td>0</td>\n",
       "      <td>1</td>\n",
       "    </tr>\n",
       "    <tr>\n",
       "      <th>4</th>\n",
       "      <td>1</td>\n",
       "      <td>0</td>\n",
       "      <td>0</td>\n",
       "      <td>1</td>\n",
       "      <td>0</td>\n",
       "      <td>0</td>\n",
       "      <td>1</td>\n",
       "      <td>0</td>\n",
       "    </tr>\n",
       "  </tbody>\n",
       "</table>\n",
       "</div>"
      ],
      "text/plain": [
       "   TV_size_32\" (81cm)  TV_size_37\" (94cm)  TV_size_42\" (107cm)  TV_screen_LCD  \\\n",
       "0                   1                   0                    0              0   \n",
       "1                   1                   0                    0              0   \n",
       "2                   1                   0                    0              0   \n",
       "3                   1                   0                    0              1   \n",
       "4                   1                   0                    0              1   \n",
       "\n",
       "   TV_screen_Plasma  TV_color_Anthrazit  TV_color_Black  TV_color_Silver  \n",
       "0                 1                   0               0                1  \n",
       "1                 1                   0               1                0  \n",
       "2                 1                   1               0                0  \n",
       "3                 0                   0               0                1  \n",
       "4                 0                   0               1                0  "
      ]
     },
     "execution_count": 78,
     "metadata": {},
     "output_type": "execute_result"
    }
   ],
   "source": [
    "X_dummied = pd.get_dummies(X)\n",
    "\n",
    "X_dummied.head()"
   ]
  },
  {
   "cell_type": "markdown",
   "metadata": {},
   "source": [
    "# Choice-Based Conjoint analysis"
   ]
  },
  {
   "cell_type": "markdown",
   "metadata": {},
   "source": [
    "__Utility of an alternative U(x)__ is\n",
    "\n",
    "\\begin{align*}\n",
    "  U(x) &= \\sum_{i=1}^{m}\\sum_{j=1}^{k_i} u_{ij}x_{ij} \\\\\n",
    "\\end{align*}\n",
    "\n",
    "where:\n",
    "\n",
    "uij: part-worth contribution (utility of jth level of ith attribute)\n",
    "\n",
    "ki: number of levels for attribute i\n",
    "\n",
    "m: number of attributes\n"
   ]
  },
  {
   "cell_type": "code",
   "execution_count": 77,
   "metadata": {},
   "outputs": [],
   "source": [
    "import statsmodels.api as sm\n",
    "import seaborn as sns\n",
    "import matplotlib.pyplot as plt\n",
    "%matplotlib inline"
   ]
  },
  {
   "cell_type": "code",
   "execution_count": 79,
   "metadata": {},
   "outputs": [
    {
     "name": "stderr",
     "output_type": "stream",
     "text": [
      "/Users/kylecaron/anaconda3/lib/python3.6/site-packages/scipy/stats/stats.py:1416: UserWarning: kurtosistest only valid for n>=20 ... continuing anyway, n=18\n",
      "  \"anyway, n=%i\" % int(n))\n"
     ]
    },
    {
     "data": {
      "text/html": [
       "<table class=\"simpletable\">\n",
       "<caption>OLS Regression Results</caption>\n",
       "<tr>\n",
       "  <th>Dep. Variable:</th>          <td>Rank</td>       <th>  R-squared:         </th> <td>   1.000</td> \n",
       "</tr>\n",
       "<tr>\n",
       "  <th>Model:</th>                   <td>OLS</td>       <th>  Adj. R-squared:    </th> <td>   1.000</td> \n",
       "</tr>\n",
       "<tr>\n",
       "  <th>Method:</th>             <td>Least Squares</td>  <th>  F-statistic:       </th> <td>2.157e+30</td>\n",
       "</tr>\n",
       "<tr>\n",
       "  <th>Date:</th>             <td>Wed, 22 May 2019</td> <th>  Prob (F-statistic):</th> <td>2.79e-179</td>\n",
       "</tr>\n",
       "<tr>\n",
       "  <th>Time:</th>                 <td>17:27:05</td>     <th>  Log-Likelihood:    </th> <td>  565.56</td> \n",
       "</tr>\n",
       "<tr>\n",
       "  <th>No. Observations:</th>      <td>    18</td>      <th>  AIC:               </th> <td>  -1119.</td> \n",
       "</tr>\n",
       "<tr>\n",
       "  <th>Df Residuals:</th>          <td>    12</td>      <th>  BIC:               </th> <td>  -1114.</td> \n",
       "</tr>\n",
       "<tr>\n",
       "  <th>Df Model:</th>              <td>     5</td>      <th>                     </th>     <td> </td>    \n",
       "</tr>\n",
       "<tr>\n",
       "  <th>Covariance Type:</th>      <td>nonrobust</td>    <th>                     </th>     <td> </td>    \n",
       "</tr>\n",
       "</table>\n",
       "<table class=\"simpletable\">\n",
       "<tr>\n",
       "           <td></td>              <th>coef</th>     <th>std err</th>      <th>t</th>      <th>P>|t|</th>  <th>[0.025</th>    <th>0.975]</th>  \n",
       "</tr>\n",
       "<tr>\n",
       "  <th>TV_size_32\" (81cm)</th>  <td>   -3.2857</td> <td> 2.28e-15</td> <td>-1.44e+15</td> <td> 0.000</td> <td>   -3.286</td> <td>   -3.286</td>\n",
       "</tr>\n",
       "<tr>\n",
       "  <th>TV_size_37\" (94cm)</th>  <td>    2.7143</td> <td> 2.28e-15</td> <td> 1.19e+15</td> <td> 0.000</td> <td>    2.714</td> <td>    2.714</td>\n",
       "</tr>\n",
       "<tr>\n",
       "  <th>TV_size_42\" (107cm)</th> <td>    8.7143</td> <td> 2.28e-15</td> <td> 3.82e+15</td> <td> 0.000</td> <td>    8.714</td> <td>    8.714</td>\n",
       "</tr>\n",
       "<tr>\n",
       "  <th>TV_screen_LCD</th>       <td>    5.5714</td> <td> 1.72e-15</td> <td> 3.24e+15</td> <td> 0.000</td> <td>    5.571</td> <td>    5.571</td>\n",
       "</tr>\n",
       "<tr>\n",
       "  <th>TV_screen_Plasma</th>    <td>    2.5714</td> <td> 1.72e-15</td> <td>  1.5e+15</td> <td> 0.000</td> <td>    2.571</td> <td>    2.571</td>\n",
       "</tr>\n",
       "<tr>\n",
       "  <th>TV_color_Anthrazit</th>  <td>    1.7143</td> <td> 2.28e-15</td> <td> 7.52e+14</td> <td> 0.000</td> <td>    1.714</td> <td>    1.714</td>\n",
       "</tr>\n",
       "<tr>\n",
       "  <th>TV_color_Black</th>      <td>    3.7143</td> <td> 2.28e-15</td> <td> 1.63e+15</td> <td> 0.000</td> <td>    3.714</td> <td>    3.714</td>\n",
       "</tr>\n",
       "<tr>\n",
       "  <th>TV_color_Silver</th>     <td>    2.7143</td> <td> 2.28e-15</td> <td> 1.19e+15</td> <td> 0.000</td> <td>    2.714</td> <td>    2.714</td>\n",
       "</tr>\n",
       "</table>\n",
       "<table class=\"simpletable\">\n",
       "<tr>\n",
       "  <th>Omnibus:</th>       <td> 1.917</td> <th>  Durbin-Watson:     </th> <td>   0.464</td>\n",
       "</tr>\n",
       "<tr>\n",
       "  <th>Prob(Omnibus):</th> <td> 0.383</td> <th>  Jarque-Bera (JB):  </th> <td>   1.053</td>\n",
       "</tr>\n",
       "<tr>\n",
       "  <th>Skew:</th>          <td>-0.197</td> <th>  Prob(JB):          </th> <td>   0.591</td>\n",
       "</tr>\n",
       "<tr>\n",
       "  <th>Kurtosis:</th>      <td> 1.883</td> <th>  Cond. No.          </th> <td>6.46e+16</td>\n",
       "</tr>\n",
       "</table><br/><br/>Warnings:<br/>[1] Standard Errors assume that the covariance matrix of the errors is correctly specified.<br/>[2] The smallest eigenvalue is 5.04e-33. This might indicate that there are<br/>strong multicollinearity problems or that the design matrix is singular."
      ],
      "text/plain": [
       "<class 'statsmodels.iolib.summary.Summary'>\n",
       "\"\"\"\n",
       "                            OLS Regression Results                            \n",
       "==============================================================================\n",
       "Dep. Variable:                   Rank   R-squared:                       1.000\n",
       "Model:                            OLS   Adj. R-squared:                  1.000\n",
       "Method:                 Least Squares   F-statistic:                 2.157e+30\n",
       "Date:                Wed, 22 May 2019   Prob (F-statistic):          2.79e-179\n",
       "Time:                        17:27:05   Log-Likelihood:                 565.56\n",
       "No. Observations:                  18   AIC:                            -1119.\n",
       "Df Residuals:                      12   BIC:                            -1114.\n",
       "Df Model:                           5                                         \n",
       "Covariance Type:            nonrobust                                         \n",
       "=======================================================================================\n",
       "                          coef    std err          t      P>|t|      [0.025      0.975]\n",
       "---------------------------------------------------------------------------------------\n",
       "TV_size_32\" (81cm)     -3.2857   2.28e-15  -1.44e+15      0.000      -3.286      -3.286\n",
       "TV_size_37\" (94cm)      2.7143   2.28e-15   1.19e+15      0.000       2.714       2.714\n",
       "TV_size_42\" (107cm)     8.7143   2.28e-15   3.82e+15      0.000       8.714       8.714\n",
       "TV_screen_LCD           5.5714   1.72e-15   3.24e+15      0.000       5.571       5.571\n",
       "TV_screen_Plasma        2.5714   1.72e-15    1.5e+15      0.000       2.571       2.571\n",
       "TV_color_Anthrazit      1.7143   2.28e-15   7.52e+14      0.000       1.714       1.714\n",
       "TV_color_Black          3.7143   2.28e-15   1.63e+15      0.000       3.714       3.714\n",
       "TV_color_Silver         2.7143   2.28e-15   1.19e+15      0.000       2.714       2.714\n",
       "==============================================================================\n",
       "Omnibus:                        1.917   Durbin-Watson:                   0.464\n",
       "Prob(Omnibus):                  0.383   Jarque-Bera (JB):                1.053\n",
       "Skew:                          -0.197   Prob(JB):                        0.591\n",
       "Kurtosis:                       1.883   Cond. No.                     6.46e+16\n",
       "==============================================================================\n",
       "\n",
       "Warnings:\n",
       "[1] Standard Errors assume that the covariance matrix of the errors is correctly specified.\n",
       "[2] The smallest eigenvalue is 5.04e-33. This might indicate that there are\n",
       "strong multicollinearity problems or that the design matrix is singular.\n",
       "\"\"\""
      ]
     },
     "execution_count": 79,
     "metadata": {},
     "output_type": "execute_result"
    }
   ],
   "source": [
    "res = sm.OLS(y, X_dummied).fit()\n",
    "res.summary()"
   ]
  },
  {
   "cell_type": "code",
   "execution_count": 106,
   "metadata": {},
   "outputs": [],
   "source": [
    "def get_cat(row):\n",
    "    stop_idx = row.find('_',5)\n",
    "    return row[:stop_idx]"
   ]
  },
  {
   "cell_type": "code",
   "execution_count": 108,
   "metadata": {},
   "outputs": [],
   "source": [
    "df_res = pd.DataFrame({\n",
    "    'param_name': res.params.keys()\n",
    "    , 'param_w': res.params.values\n",
    "    , 'pval': res.pvalues\n",
    "})\n",
    "\n",
    "df_res['abs_param_w'] = np.abs(df_res['param_w'])\n",
    "df_res['is_sig_95'] = (df_res['pval'] < 0.05)\n",
    "df_res['c'] = ['blue' if x else 'red' for x in df_res['is_sig_95']]\n",
    "df_res = df_res.sort_values(by='abs_param_w', ascending=True)\n",
    "\n",
    "#create category\n",
    "df_res['cat'] = df_res.param_name.apply(get_cat)\n"
   ]
  },
  {
   "cell_type": "code",
   "execution_count": 116,
   "metadata": {},
   "outputs": [
    {
     "data": {
      "text/html": [
       "<div>\n",
       "<style scoped>\n",
       "    .dataframe tbody tr th:only-of-type {\n",
       "        vertical-align: middle;\n",
       "    }\n",
       "\n",
       "    .dataframe tbody tr th {\n",
       "        vertical-align: top;\n",
       "    }\n",
       "\n",
       "    .dataframe thead th {\n",
       "        text-align: right;\n",
       "    }\n",
       "</style>\n",
       "<table border=\"1\" class=\"dataframe\">\n",
       "  <thead>\n",
       "    <tr style=\"text-align: right;\">\n",
       "      <th></th>\n",
       "      <th>param_name</th>\n",
       "      <th>param_w</th>\n",
       "      <th>pval</th>\n",
       "      <th>abs_param_w</th>\n",
       "      <th>is_sig_95</th>\n",
       "      <th>c</th>\n",
       "      <th>cat</th>\n",
       "    </tr>\n",
       "  </thead>\n",
       "  <tbody>\n",
       "    <tr>\n",
       "      <th>TV_color_Anthrazit</th>\n",
       "      <td>TV_color_Anthrazit</td>\n",
       "      <td>1.714286</td>\n",
       "      <td>2.058433e-173</td>\n",
       "      <td>1.714286</td>\n",
       "      <td>True</td>\n",
       "      <td>blue</td>\n",
       "      <td>TV_color</td>\n",
       "    </tr>\n",
       "    <tr>\n",
       "      <th>TV_screen_Plasma</th>\n",
       "      <td>TV_screen_Plasma</td>\n",
       "      <td>2.571429</td>\n",
       "      <td>5.363010e-177</td>\n",
       "      <td>2.571429</td>\n",
       "      <td>True</td>\n",
       "      <td>blue</td>\n",
       "      <td>TV_screen</td>\n",
       "    </tr>\n",
       "    <tr>\n",
       "      <th>TV_size_37\" (94cm)</th>\n",
       "      <td>TV_size_37\" (94cm)</td>\n",
       "      <td>2.714286</td>\n",
       "      <td>8.292176e-176</td>\n",
       "      <td>2.714286</td>\n",
       "      <td>True</td>\n",
       "      <td>blue</td>\n",
       "      <td>TV_size</td>\n",
       "    </tr>\n",
       "    <tr>\n",
       "      <th>TV_color_Silver</th>\n",
       "      <td>TV_color_Silver</td>\n",
       "      <td>2.714286</td>\n",
       "      <td>8.292176e-176</td>\n",
       "      <td>2.714286</td>\n",
       "      <td>True</td>\n",
       "      <td>blue</td>\n",
       "      <td>TV_color</td>\n",
       "    </tr>\n",
       "    <tr>\n",
       "      <th>TV_size_32\" (81cm)</th>\n",
       "      <td>TV_size_32\" (81cm)</td>\n",
       "      <td>-3.285714</td>\n",
       "      <td>8.374863e-177</td>\n",
       "      <td>3.285714</td>\n",
       "      <td>True</td>\n",
       "      <td>blue</td>\n",
       "      <td>TV_size</td>\n",
       "    </tr>\n",
       "    <tr>\n",
       "      <th>TV_color_Black</th>\n",
       "      <td>TV_color_Black</td>\n",
       "      <td>3.714286</td>\n",
       "      <td>1.923231e-177</td>\n",
       "      <td>3.714286</td>\n",
       "      <td>True</td>\n",
       "      <td>blue</td>\n",
       "      <td>TV_color</td>\n",
       "    </tr>\n",
       "    <tr>\n",
       "      <th>TV_screen_LCD</th>\n",
       "      <td>TV_screen_LCD</td>\n",
       "      <td>5.571429</td>\n",
       "      <td>5.010757e-181</td>\n",
       "      <td>5.571429</td>\n",
       "      <td>True</td>\n",
       "      <td>blue</td>\n",
       "      <td>TV_screen</td>\n",
       "    </tr>\n",
       "    <tr>\n",
       "      <th>TV_size_42\" (107cm)</th>\n",
       "      <td>TV_size_42\" (107cm)</td>\n",
       "      <td>8.714286</td>\n",
       "      <td>6.914388e-182</td>\n",
       "      <td>8.714286</td>\n",
       "      <td>True</td>\n",
       "      <td>blue</td>\n",
       "      <td>TV_size</td>\n",
       "    </tr>\n",
       "  </tbody>\n",
       "</table>\n",
       "</div>"
      ],
      "text/plain": [
       "                              param_name   param_w           pval  \\\n",
       "TV_color_Anthrazit    TV_color_Anthrazit  1.714286  2.058433e-173   \n",
       "TV_screen_Plasma        TV_screen_Plasma  2.571429  5.363010e-177   \n",
       "TV_size_37\" (94cm)    TV_size_37\" (94cm)  2.714286  8.292176e-176   \n",
       "TV_color_Silver          TV_color_Silver  2.714286  8.292176e-176   \n",
       "TV_size_32\" (81cm)    TV_size_32\" (81cm) -3.285714  8.374863e-177   \n",
       "TV_color_Black            TV_color_Black  3.714286  1.923231e-177   \n",
       "TV_screen_LCD              TV_screen_LCD  5.571429  5.010757e-181   \n",
       "TV_size_42\" (107cm)  TV_size_42\" (107cm)  8.714286  6.914388e-182   \n",
       "\n",
       "                     abs_param_w  is_sig_95     c        cat  \n",
       "TV_color_Anthrazit      1.714286       True  blue   TV_color  \n",
       "TV_screen_Plasma        2.571429       True  blue  TV_screen  \n",
       "TV_size_37\" (94cm)      2.714286       True  blue    TV_size  \n",
       "TV_color_Silver         2.714286       True  blue   TV_color  \n",
       "TV_size_32\" (81cm)      3.285714       True  blue    TV_size  \n",
       "TV_color_Black          3.714286       True  blue   TV_color  \n",
       "TV_screen_LCD           5.571429       True  blue  TV_screen  \n",
       "TV_size_42\" (107cm)     8.714286       True  blue    TV_size  "
      ]
     },
     "execution_count": 116,
     "metadata": {},
     "output_type": "execute_result"
    }
   ],
   "source": [
    "df_res"
   ]
  },
  {
   "cell_type": "code",
   "execution_count": 83,
   "metadata": {},
   "outputs": [
    {
     "data": {
      "image/png": "[encoded data removed]",
      "text/plain": [
       "<Figure size 1008x576 with 1 Axes>"
      ]
     },
     "metadata": {
      "needs_background": "light"
     },
     "output_type": "display_data"
    }
   ],
   "source": [
    "f, ax = plt.subplots(figsize=(14, 8))\n",
    "plt.title('Part Worth')\n",
    "pwu = df_res['param_w']\n",
    "xbar = np.arange(len(pwu))\n",
    "plt.barh(xbar, pwu, color=df_res['c'])\n",
    "plt.yticks(xbar, labels=df_res['param_name'])\n",
    "plt.show()"
   ]
  },
  {
   "cell_type": "code",
   "execution_count": 92,
   "metadata": {},
   "outputs": [],
   "source": [
    "# need to assemble per attribute for every level of that attribute in dicionary\n",
    "range_per_feature = dict()\n",
    "for key, coeff in res.params.items():\n",
    "    sk =  key.split('_')\n",
    "    feature = sk[0]+'_'+sk[1]\n",
    "    if len(sk) == 1:\n",
    "        feature = key\n",
    "    if feature not in range_per_feature:\n",
    "        range_per_feature[feature] = list()\n",
    "        \n",
    "    range_per_feature[feature].append(coeff)"
   ]
  },
  {
   "cell_type": "code",
   "execution_count": 93,
   "metadata": {},
   "outputs": [
    {
     "data": {
      "text/plain": [
       "{'TV_size': [-3.285714285714286, 2.7142857142857095, 8.714285714285719],\n",
       " 'TV_screen': [5.571428571428572, 2.571428571428572],\n",
       " 'TV_color': [1.7142857142857166, 3.714285714285718, 2.7142857142857144]}"
      ]
     },
     "execution_count": 93,
     "metadata": {},
     "output_type": "execute_result"
    }
   ],
   "source": [
    "range_per_feature"
   ]
  },
  {
   "cell_type": "code",
   "execution_count": 95,
   "metadata": {},
   "outputs": [],
   "source": [
    "# importance per feature is range of coef in a feature\n",
    "# while range is simply max(x) - min(x)\n",
    "importance_per_feature = {\n",
    "    k: max(v) - min(v) for k, v in range_per_feature.items()\n",
    "}\n",
    "\n",
    "# compute relative importance per feature\n",
    "# or normalized feature importance by dividing \n",
    "# sum of importance for all features\n",
    "total_feature_importance = sum(importance_per_feature.values())\n",
    "relative_importance_per_feature = {\n",
    "    k: 100 * round(v/total_feature_importance, 3) for k, v in importance_per_feature.items()\n",
    "}\n"
   ]
  },
  {
   "cell_type": "code",
   "execution_count": 94,
   "metadata": {},
   "outputs": [
    {
     "data": {
      "text/plain": [
       "{'TV_size': 12.000000000000004,\n",
       " 'TV_screen': 3.0000000000000018,\n",
       " 'TV_color': 1.9999999999999944}"
      ]
     },
     "execution_count": 94,
     "metadata": {},
     "output_type": "execute_result"
    }
   ],
   "source": [
    "importance_per_feature"
   ]
  },
  {
   "cell_type": "code",
   "execution_count": 96,
   "metadata": {},
   "outputs": [
    {
     "data": {
      "image/png": "[encoded data removed]",
      "text/plain": [
       "<Figure size 864x576 with 1 Axes>"
      ]
     },
     "metadata": {
      "needs_background": "light"
     },
     "output_type": "display_data"
    }
   ],
   "source": [
    "alt_data = pd.DataFrame(\n",
    "    list(importance_per_feature.items()), \n",
    "    columns=['attr', 'importance']\n",
    ").sort_values(by='importance', ascending=False)\n",
    "\n",
    "\n",
    "f, ax = plt.subplots(figsize=(12, 8))\n",
    "xbar = np.arange(len(alt_data['attr']))\n",
    "plt.title('Importance')\n",
    "plt.barh(xbar, alt_data['importance'])\n",
    "for i, v in enumerate(alt_data['importance']):\n",
    "    ax.text(v , i + .25, '{:.2f}'.format(v))\n",
    "plt.ylabel('attributes')\n",
    "plt.xlabel('% importance')\n",
    "plt.yticks(xbar, alt_data['attr'])\n",
    "plt.show()"
   ]
  },
  {
   "cell_type": "code",
   "execution_count": 97,
   "metadata": {},
   "outputs": [
    {
     "data": {
      "image/png": "[encoded data removed]",
      "text/plain": [
       "<Figure size 864x576 with 1 Axes>"
      ]
     },
     "metadata": {
      "needs_background": "light"
     },
     "output_type": "display_data"
    }
   ],
   "source": [
    "alt_data = pd.DataFrame(\n",
    "    list(relative_importance_per_feature.items()), \n",
    "    columns=['attr', 'relative_importance (pct)']\n",
    ").sort_values(by='relative_importance (pct)', ascending=False)\n",
    "\n",
    "\n",
    "f, ax = plt.subplots(figsize=(12, 8))\n",
    "xbar = np.arange(len(alt_data['attr']))\n",
    "plt.title('Relative importance / Normalized importance')\n",
    "plt.barh(xbar, alt_data['relative_importance (pct)'])\n",
    "for i, v in enumerate(alt_data['relative_importance (pct)']):\n",
    "    ax.text(v , i + .25, '{:.2f}%'.format(v))\n",
    "plt.ylabel('attributes')\n",
    "plt.xlabel('% relative importance')\n",
    "plt.yticks(xbar, alt_data['attr'])\n",
    "plt.show()"
   ]
  },
  {
   "cell_type": "code",
   "execution_count": 145,
   "metadata": {},
   "outputs": [
    {
     "data": {
      "text/html": [
       "<div>\n",
       "<style scoped>\n",
       "    .dataframe tbody tr th:only-of-type {\n",
       "        vertical-align: middle;\n",
       "    }\n",
       "\n",
       "    .dataframe tbody tr th {\n",
       "        vertical-align: top;\n",
       "    }\n",
       "\n",
       "    .dataframe thead th {\n",
       "        text-align: right;\n",
       "    }\n",
       "</style>\n",
       "<table border=\"1\" class=\"dataframe\">\n",
       "  <thead>\n",
       "    <tr style=\"text-align: right;\">\n",
       "      <th></th>\n",
       "      <th>index</th>\n",
       "      <th>param_name</th>\n",
       "      <th>param_w</th>\n",
       "      <th>pval</th>\n",
       "      <th>abs_param_w</th>\n",
       "      <th>is_sig_95</th>\n",
       "      <th>c</th>\n",
       "      <th>cat</th>\n",
       "    </tr>\n",
       "  </thead>\n",
       "  <tbody>\n",
       "    <tr>\n",
       "      <th>0</th>\n",
       "      <td>TV_color_Anthrazit</td>\n",
       "      <td>TV_color_Anthrazit</td>\n",
       "      <td>1.714286</td>\n",
       "      <td>2.058433e-173</td>\n",
       "      <td>1.714286</td>\n",
       "      <td>True</td>\n",
       "      <td>blue</td>\n",
       "      <td>TV_color</td>\n",
       "    </tr>\n",
       "    <tr>\n",
       "      <th>1</th>\n",
       "      <td>TV_screen_Plasma</td>\n",
       "      <td>TV_screen_Plasma</td>\n",
       "      <td>2.571429</td>\n",
       "      <td>5.363010e-177</td>\n",
       "      <td>2.571429</td>\n",
       "      <td>True</td>\n",
       "      <td>blue</td>\n",
       "      <td>TV_screen</td>\n",
       "    </tr>\n",
       "    <tr>\n",
       "      <th>2</th>\n",
       "      <td>TV_size_37\" (94cm)</td>\n",
       "      <td>TV_size_37\" (94cm)</td>\n",
       "      <td>2.714286</td>\n",
       "      <td>8.292176e-176</td>\n",
       "      <td>2.714286</td>\n",
       "      <td>True</td>\n",
       "      <td>blue</td>\n",
       "      <td>TV_size</td>\n",
       "    </tr>\n",
       "    <tr>\n",
       "      <th>3</th>\n",
       "      <td>TV_color_Silver</td>\n",
       "      <td>TV_color_Silver</td>\n",
       "      <td>2.714286</td>\n",
       "      <td>8.292176e-176</td>\n",
       "      <td>2.714286</td>\n",
       "      <td>True</td>\n",
       "      <td>blue</td>\n",
       "      <td>TV_color</td>\n",
       "    </tr>\n",
       "    <tr>\n",
       "      <th>4</th>\n",
       "      <td>TV_size_32\" (81cm)</td>\n",
       "      <td>TV_size_32\" (81cm)</td>\n",
       "      <td>-3.285714</td>\n",
       "      <td>8.374863e-177</td>\n",
       "      <td>3.285714</td>\n",
       "      <td>True</td>\n",
       "      <td>blue</td>\n",
       "      <td>TV_size</td>\n",
       "    </tr>\n",
       "    <tr>\n",
       "      <th>5</th>\n",
       "      <td>TV_color_Black</td>\n",
       "      <td>TV_color_Black</td>\n",
       "      <td>3.714286</td>\n",
       "      <td>1.923231e-177</td>\n",
       "      <td>3.714286</td>\n",
       "      <td>True</td>\n",
       "      <td>blue</td>\n",
       "      <td>TV_color</td>\n",
       "    </tr>\n",
       "    <tr>\n",
       "      <th>6</th>\n",
       "      <td>TV_screen_LCD</td>\n",
       "      <td>TV_screen_LCD</td>\n",
       "      <td>5.571429</td>\n",
       "      <td>5.010757e-181</td>\n",
       "      <td>5.571429</td>\n",
       "      <td>True</td>\n",
       "      <td>blue</td>\n",
       "      <td>TV_screen</td>\n",
       "    </tr>\n",
       "    <tr>\n",
       "      <th>7</th>\n",
       "      <td>TV_size_42\" (107cm)</td>\n",
       "      <td>TV_size_42\" (107cm)</td>\n",
       "      <td>8.714286</td>\n",
       "      <td>6.914388e-182</td>\n",
       "      <td>8.714286</td>\n",
       "      <td>True</td>\n",
       "      <td>blue</td>\n",
       "      <td>TV_size</td>\n",
       "    </tr>\n",
       "  </tbody>\n",
       "</table>\n",
       "</div>"
      ],
      "text/plain": [
       "                 index           param_name   param_w           pval  \\\n",
       "0   TV_color_Anthrazit   TV_color_Anthrazit  1.714286  2.058433e-173   \n",
       "1     TV_screen_Plasma     TV_screen_Plasma  2.571429  5.363010e-177   \n",
       "2   TV_size_37\" (94cm)   TV_size_37\" (94cm)  2.714286  8.292176e-176   \n",
       "3      TV_color_Silver      TV_color_Silver  2.714286  8.292176e-176   \n",
       "4   TV_size_32\" (81cm)   TV_size_32\" (81cm) -3.285714  8.374863e-177   \n",
       "5       TV_color_Black       TV_color_Black  3.714286  1.923231e-177   \n",
       "6        TV_screen_LCD        TV_screen_LCD  5.571429  5.010757e-181   \n",
       "7  TV_size_42\" (107cm)  TV_size_42\" (107cm)  8.714286  6.914388e-182   \n",
       "\n",
       "   abs_param_w  is_sig_95     c        cat  \n",
       "0     1.714286       True  blue   TV_color  \n",
       "1     2.571429       True  blue  TV_screen  \n",
       "2     2.714286       True  blue    TV_size  \n",
       "3     2.714286       True  blue   TV_color  \n",
       "4     3.285714       True  blue    TV_size  \n",
       "5     3.714286       True  blue   TV_color  \n",
       "6     5.571429       True  blue  TV_screen  \n",
       "7     8.714286       True  blue    TV_size  "
      ]
     },
     "execution_count": 145,
     "metadata": {},
     "output_type": "execute_result"
    }
   ],
   "source": [
    "df_res.reset_index().groupby(['cat'])['param_w']"
   ]
  },
  {
   "cell_type": "code",
   "execution_count": 144,
   "metadata": {},
   "outputs": [
    {
     "ename": "KeyError",
     "evalue": "\"None of [Int64Index([5, 6, 7], dtype='int64')] are in the [index]\"",
     "output_type": "error",
     "traceback": [
      "\u001b[0;31m---------------------------------------------------------------------------\u001b[0m",
      "\u001b[0;31mKeyError\u001b[0m                                  Traceback (most recent call last)",
      "\u001b[0;32m<ipython-input-144-c5d9e0d37afb>\u001b[0m in \u001b[0;36m<module>\u001b[0;34m\u001b[0m\n\u001b[0;32m----> 1\u001b[0;31m \u001b[0mdf_res\u001b[0m\u001b[0;34m.\u001b[0m\u001b[0mloc\u001b[0m\u001b[0;34m[\u001b[0m\u001b[0mdf_res\u001b[0m\u001b[0;34m.\u001b[0m\u001b[0mreset_index\u001b[0m\u001b[0;34m(\u001b[0m\u001b[0;34m)\u001b[0m\u001b[0;34m.\u001b[0m\u001b[0mgroupby\u001b[0m\u001b[0;34m(\u001b[0m\u001b[0;34m[\u001b[0m\u001b[0;34m'cat'\u001b[0m\u001b[0;34m]\u001b[0m\u001b[0;34m)\u001b[0m\u001b[0;34m[\u001b[0m\u001b[0;34m'param_w'\u001b[0m\u001b[0;34m]\u001b[0m\u001b[0;34m.\u001b[0m\u001b[0midxmax\u001b[0m\u001b[0;34m(\u001b[0m\u001b[0;34m)\u001b[0m\u001b[0;34m]\u001b[0m\u001b[0;34m\u001b[0m\u001b[0;34m\u001b[0m\u001b[0m\n\u001b[0m",
      "\u001b[0;32m~/anaconda3/lib/python3.6/site-packages/pandas/core/indexing.py\u001b[0m in \u001b[0;36m__getitem__\u001b[0;34m(self, key)\u001b[0m\n\u001b[1;32m   1498\u001b[0m \u001b[0;34m\u001b[0m\u001b[0m\n\u001b[1;32m   1499\u001b[0m             \u001b[0mmaybe_callable\u001b[0m \u001b[0;34m=\u001b[0m \u001b[0mcom\u001b[0m\u001b[0;34m.\u001b[0m\u001b[0mapply_if_callable\u001b[0m\u001b[0;34m(\u001b[0m\u001b[0mkey\u001b[0m\u001b[0;34m,\u001b[0m \u001b[0mself\u001b[0m\u001b[0;34m.\u001b[0m\u001b[0mobj\u001b[0m\u001b[0;34m)\u001b[0m\u001b[0;34m\u001b[0m\u001b[0;34m\u001b[0m\u001b[0m\n\u001b[0;32m-> 1500\u001b[0;31m             \u001b[0;32mreturn\u001b[0m \u001b[0mself\u001b[0m\u001b[0;34m.\u001b[0m\u001b[0m_getitem_axis\u001b[0m\u001b[0;34m(\u001b[0m\u001b[0mmaybe_callable\u001b[0m\u001b[0;34m,\u001b[0m \u001b[0maxis\u001b[0m\u001b[0;34m=\u001b[0m\u001b[0maxis\u001b[0m\u001b[0;34m)\u001b[0m\u001b[0;34m\u001b[0m\u001b[0;34m\u001b[0m\u001b[0m\n\u001b[0m\u001b[1;32m   1501\u001b[0m \u001b[0;34m\u001b[0m\u001b[0m\n\u001b[1;32m   1502\u001b[0m     \u001b[0;32mdef\u001b[0m \u001b[0m_is_scalar_access\u001b[0m\u001b[0;34m(\u001b[0m\u001b[0mself\u001b[0m\u001b[0;34m,\u001b[0m \u001b[0mkey\u001b[0m\u001b[0;34m)\u001b[0m\u001b[0;34m:\u001b[0m\u001b[0;34m\u001b[0m\u001b[0;34m\u001b[0m\u001b[0m\n",
      "\u001b[0;32m~/anaconda3/lib/python3.6/site-packages/pandas/core/indexing.py\u001b[0m in \u001b[0;36m_getitem_axis\u001b[0;34m(self, key, axis)\u001b[0m\n\u001b[1;32m   1900\u001b[0m                     \u001b[0;32mraise\u001b[0m \u001b[0mValueError\u001b[0m\u001b[0;34m(\u001b[0m\u001b[0;34m'Cannot index with multidimensional key'\u001b[0m\u001b[0;34m)\u001b[0m\u001b[0;34m\u001b[0m\u001b[0;34m\u001b[0m\u001b[0m\n\u001b[1;32m   1901\u001b[0m \u001b[0;34m\u001b[0m\u001b[0m\n\u001b[0;32m-> 1902\u001b[0;31m                 \u001b[0;32mreturn\u001b[0m \u001b[0mself\u001b[0m\u001b[0;34m.\u001b[0m\u001b[0m_getitem_iterable\u001b[0m\u001b[0;34m(\u001b[0m\u001b[0mkey\u001b[0m\u001b[0;34m,\u001b[0m \u001b[0maxis\u001b[0m\u001b[0;34m=\u001b[0m\u001b[0maxis\u001b[0m\u001b[0;34m)\u001b[0m\u001b[0;34m\u001b[0m\u001b[0;34m\u001b[0m\u001b[0m\n\u001b[0m\u001b[1;32m   1903\u001b[0m \u001b[0;34m\u001b[0m\u001b[0m\n\u001b[1;32m   1904\u001b[0m             \u001b[0;31m# nested tuple slicing\u001b[0m\u001b[0;34m\u001b[0m\u001b[0;34m\u001b[0m\u001b[0;34m\u001b[0m\u001b[0m\n",
      "\u001b[0;32m~/anaconda3/lib/python3.6/site-packages/pandas/core/indexing.py\u001b[0m in \u001b[0;36m_getitem_iterable\u001b[0;34m(self, key, axis)\u001b[0m\n\u001b[1;32m   1203\u001b[0m             \u001b[0;31m# A collection of keys\u001b[0m\u001b[0;34m\u001b[0m\u001b[0;34m\u001b[0m\u001b[0;34m\u001b[0m\u001b[0m\n\u001b[1;32m   1204\u001b[0m             keyarr, indexer = self._get_listlike_indexer(key, axis,\n\u001b[0;32m-> 1205\u001b[0;31m                                                          raise_missing=False)\n\u001b[0m\u001b[1;32m   1206\u001b[0m             return self.obj._reindex_with_indexers({axis: [keyarr, indexer]},\n\u001b[1;32m   1207\u001b[0m                                                    copy=True, allow_dups=True)\n",
      "\u001b[0;32m~/anaconda3/lib/python3.6/site-packages/pandas/core/indexing.py\u001b[0m in \u001b[0;36m_get_listlike_indexer\u001b[0;34m(self, key, axis, raise_missing)\u001b[0m\n\u001b[1;32m   1159\u001b[0m         self._validate_read_indexer(keyarr, indexer,\n\u001b[1;32m   1160\u001b[0m                                     \u001b[0mo\u001b[0m\u001b[0;34m.\u001b[0m\u001b[0m_get_axis_number\u001b[0m\u001b[0;34m(\u001b[0m\u001b[0maxis\u001b[0m\u001b[0;34m)\u001b[0m\u001b[0;34m,\u001b[0m\u001b[0;34m\u001b[0m\u001b[0;34m\u001b[0m\u001b[0m\n\u001b[0;32m-> 1161\u001b[0;31m                                     raise_missing=raise_missing)\n\u001b[0m\u001b[1;32m   1162\u001b[0m         \u001b[0;32mreturn\u001b[0m \u001b[0mkeyarr\u001b[0m\u001b[0;34m,\u001b[0m \u001b[0mindexer\u001b[0m\u001b[0;34m\u001b[0m\u001b[0;34m\u001b[0m\u001b[0m\n\u001b[1;32m   1163\u001b[0m \u001b[0;34m\u001b[0m\u001b[0m\n",
      "\u001b[0;32m~/anaconda3/lib/python3.6/site-packages/pandas/core/indexing.py\u001b[0m in \u001b[0;36m_validate_read_indexer\u001b[0;34m(self, key, indexer, axis, raise_missing)\u001b[0m\n\u001b[1;32m   1244\u001b[0m                 raise KeyError(\n\u001b[1;32m   1245\u001b[0m                     u\"None of [{key}] are in the [{axis}]\".format(\n\u001b[0;32m-> 1246\u001b[0;31m                         key=key, axis=self.obj._get_axis_name(axis)))\n\u001b[0m\u001b[1;32m   1247\u001b[0m \u001b[0;34m\u001b[0m\u001b[0m\n\u001b[1;32m   1248\u001b[0m             \u001b[0;31m# We (temporarily) allow for some missing keys with .loc, except in\u001b[0m\u001b[0;34m\u001b[0m\u001b[0;34m\u001b[0m\u001b[0;34m\u001b[0m\u001b[0m\n",
      "\u001b[0;31mKeyError\u001b[0m: \"None of [Int64Index([5, 6, 7], dtype='int64')] are in the [index]\""
     ]
    }
   ],
   "source": [
    "df_res.loc[df_res.reset_index().groupby(['cat'])['param_w'].idxmax()]\n"
   ]
  },
  {
   "cell_type": "code",
   "execution_count": 138,
   "metadata": {},
   "outputs": [
    {
     "data": {
      "text/plain": [
       "cat\n",
       "TV_color     3.714286\n",
       "TV_screen    5.571429\n",
       "TV_size      8.714286\n",
       "Name: param_w, dtype: float64"
      ]
     },
     "execution_count": 138,
     "metadata": {},
     "output_type": "execute_result"
    }
   ],
   "source": [
    "df_res.groupby('cat')['param_w'].max()"
   ]
  },
  {
   "cell_type": "code",
   "execution_count": 124,
   "metadata": {},
   "outputs": [
    {
     "data": {
      "text/html": [
       "<div>\n",
       "<style scoped>\n",
       "    .dataframe tbody tr th:only-of-type {\n",
       "        vertical-align: middle;\n",
       "    }\n",
       "\n",
       "    .dataframe tbody tr th {\n",
       "        vertical-align: top;\n",
       "    }\n",
       "\n",
       "    .dataframe thead th {\n",
       "        text-align: right;\n",
       "    }\n",
       "</style>\n",
       "<table border=\"1\" class=\"dataframe\">\n",
       "  <thead>\n",
       "    <tr style=\"text-align: right;\">\n",
       "      <th></th>\n",
       "      <th>param_w</th>\n",
       "      <th>pval</th>\n",
       "      <th>abs_param_w</th>\n",
       "      <th>is_sig_95</th>\n",
       "    </tr>\n",
       "    <tr>\n",
       "      <th>cat</th>\n",
       "      <th></th>\n",
       "      <th></th>\n",
       "      <th></th>\n",
       "      <th></th>\n",
       "    </tr>\n",
       "  </thead>\n",
       "  <tbody>\n",
       "    <tr>\n",
       "      <th>TV_color</th>\n",
       "      <td>8.142857</td>\n",
       "      <td>2.066918e-173</td>\n",
       "      <td>8.142857</td>\n",
       "      <td>3.0</td>\n",
       "    </tr>\n",
       "    <tr>\n",
       "      <th>TV_screen</th>\n",
       "      <td>8.142857</td>\n",
       "      <td>5.363511e-177</td>\n",
       "      <td>8.142857</td>\n",
       "      <td>2.0</td>\n",
       "    </tr>\n",
       "    <tr>\n",
       "      <th>TV_size</th>\n",
       "      <td>8.142857</td>\n",
       "      <td>9.129669e-176</td>\n",
       "      <td>14.714286</td>\n",
       "      <td>3.0</td>\n",
       "    </tr>\n",
       "  </tbody>\n",
       "</table>\n",
       "</div>"
      ],
      "text/plain": [
       "            param_w           pval  abs_param_w  is_sig_95\n",
       "cat                                                       \n",
       "TV_color   8.142857  2.066918e-173     8.142857        3.0\n",
       "TV_screen  8.142857  5.363511e-177     8.142857        2.0\n",
       "TV_size    8.142857  9.129669e-176    14.714286        3.0"
      ]
     },
     "execution_count": 124,
     "metadata": {},
     "output_type": "execute_result"
    }
   ],
   "source": [
    "df_res.groupby('cat').sum()"
   ]
  },
  {
   "cell_type": "code",
   "execution_count": null,
   "metadata": {},
   "outputs": [],
   "source": []
  }
 ],
 "metadata": {
  "kernelspec": {
   "display_name": "Python 3",
   "language": "python",
   "name": "python3"
  },
  "language_info": {
   "codemirror_mode": {
    "name": "ipython",
    "version": 3
   },
   "file_extension": ".py",
   "mimetype": "text/x-python",
   "name": "python",
   "nbconvert_exporter": "python",
   "pygments_lexer": "ipython3",
   "version": "3.6.8"
  }
 },
 "nbformat": 4,
 "nbformat_minor": 2
}
